{
 "cells": [
  {
   "cell_type": "code",
   "execution_count": 4,
   "id": "ef84bd46-7996-456f-a29e-e9b06b0d3cb8",
   "metadata": {},
   "outputs": [],
   "source": [
    "def Notebook():\n",
    "    print(\"Tesla Stock Predition\")\n",
    "    Notebook()"
   ]
  },
  {
   "cell_type": "markdown",
   "id": "7b680b3c-160e-4e3a-b101-4c08291e90a7",
   "metadata": {},
   "source": [
    "Ini adalah latihan saya dalam mempelajari data science. kali ini saya akan membuat sebuah mini project mengenai (TESLA STOCK PRICE PREDICTION). "
   ]
  },
  {
   "cell_type": "markdown",
   "id": "e71f9740-ee7c-48ae-a0e2-62995d0a96db",
   "metadata": {},
   "source": [
    "Dalam Project ini terdapat 5 kerangka besar"
   ]
  },
  {
   "cell_type": "markdown",
   "id": "3c30f614-a4c3-4cf9-9d3e-da214096f013",
   "metadata": {},
   "source": [
    "1. Bussines Problem\n",
    "   data ini memiliki rentetan data history tang terjadi sebelumnya. data ini berupa:\n",
    "\n",
    "   Date : mewakili tanggal hari transaksi\n",
    "\n",
    "   Open : merupakan harga saham awal pada hari atau tanggal tersebut\n",
    "\n",
    "   High : merupakan pergerakan harga tertinggi yang terjadi pada hari atau tanggal tersebut\n",
    "\n",
    "   Low  : merupakan pergerakan harga terendah yang terjadi pada hari atau tanggal tersebut\n",
    "\n",
    "   Close : merupakan harga penutupan pada hari atau tanggal tersebut\n",
    "   Volume : merupakan informasi value transaksi untuk perdagangan yang relevan."
   ]
  },
  {
   "cell_type": "markdown",
   "id": "18fd5706-a0d4-4a79-849d-59df5d7ca86f",
   "metadata": {},
   "source": [
    "2. Understanding Data"
   ]
  },
  {
   "cell_type": "code",
   "execution_count": 1,
   "id": "4cfd7036-f1f9-44b0-9c51-7c3f76d50980",
   "metadata": {},
   "outputs": [],
   "source": [
    "import numpy as np \n",
    "import pandas as pd\n",
    "import tensorflow as tf\n",
    "import matplotlib.pyplot as plt"
   ]
  },
  {
   "cell_type": "markdown",
   "id": "216d65d5-2f78-4050-9a26-eaddaaf69466",
   "metadata": {},
   "source": [
    "import numpy as np\n",
    "import pandas as pd\n",
    "import tensorflow as tf\n",
    "import matplotlib.pyplot as plt"
   ]
  },
  {
   "cell_type": "code",
   "execution_count": 33,
   "id": "77e2b6cf-5903-4ac6-9eed-5364d024e042",
   "metadata": {},
   "outputs": [],
   "source": [
    "from sklearn.preprocessing import MinMaxScaler\n",
    "from sklearn.metrics import mean_squared_error\n",
    "from sklearn.preprocessing import StandardScaler\n"
   ]
  },
  {
   "cell_type": "markdown",
   "id": "11835634-7649-4659-b5f9-4f7c3ea6f59c",
   "metadata": {},
   "source": [
    "MinMaxScaler dalam library scikit-learn adalah alat yang digunan untuk penskalaan fitur, yang akan mengubah setiap fitur sehingga nilainya berada dalam rentan tertentu. biasanya digunakan untuk menormalisasikan fitur iput dar data sebelum memasukan ke dalam mdel pembelajaran mesin (machine learning\n",
    "\n",
    "\n",
    "mean_squared_error adalah metrik evaluasi yang digunakan untuk mengukur seberapa baik model regresi memprediksi nilai yang kontinue. mengukur rata rata kuadrat dari selisih antara nilai sebenarnya dan nilai yang dipredisksi oleh model\n"
   ]
  },
  {
   "cell_type": "code",
   "execution_count": 3,
   "id": "1f9fbf71-2c3a-46a3-af86-6fdd435f93b5",
   "metadata": {},
   "outputs": [],
   "source": [
    "import warnings\n",
    "warnings.filterwarnings('ignore')"
   ]
  },
  {
   "cell_type": "markdown",
   "id": "a87d70ed-2ad8-4cab-89bd-3da79e910be5",
   "metadata": {},
   "source": [
    "warnings.filterwarnings('ignore') digunakan untuk mengabaikan semua pesan peringatan yang dihasilkan selama eksekusi kode. Ini sering digunakan jika Anda ingin menyembunyikan pesan peringatan yang tidak relevan atau mengganggu selama proses eksekusi."
   ]
  },
  {
   "cell_type": "code",
   "execution_count": 4,
   "id": "d9037d96-92e9-4c81-ac10-9d6c81d1412a",
   "metadata": {},
   "outputs": [],
   "source": [
    "from tensorflow.keras.models import Sequential\n",
    "from tensorflow.keras.layers import Dense, LSTM,Dropout\n",
    "from tensorflow.keras.callbacks import ModelCheckpoint,EarlyStopping"
   ]
  },
  {
   "cell_type": "markdown",
   "id": "6ac27a66-a08a-4d87-bf4c-29d32bdc1424",
   "metadata": {},
   "source": [
    "tensorflow sebuah paltform open source yang digunakan untuk pembelajaran mesin dan pengembangan model kecerdasan buatan berikut adalah penjelesan singkat dari beberapa komponenen yang digunakan:\n",
    "\n",
    "1. Sequentials meruapakan sebuah model keras yang memungkina kita untuk membuaat model secara berurutan, artinya kita dapat menambahkan lapisan secara berurutan satu per satu.\n",
    "\n",
    "2. Dense merupakan lapisan neural network yang paling sering digunakan, lapisan ini terdiri dari neuron yang terhubunh sepenuhnya satu sama lain.\n",
    "\n",
    "3. LSTM (Long Short - Term Memory)merupakan lapisan jaringan saraf rekursif (RNN) yang berguna untuk menangani data berurutan.\n",
    "\n",
    "4. Dropout merupkan teknik regularisasi yang digunakan untuk mencegah overfitting dalam model.\n",
    "\n",
    "5. ModelCheckpoint: Ini adalah callback keras yang digunakan untuk menyimpan model selama proses pelatihan. Ini memungkinkan kita untuk menyimpan model terbaik berdasarkan metrik yang ditentukan, seperti akurasi atau kehilangan.\n",
    "\n",
    "6. EarlyStopping: Ini adalah callback keras yang digunakan untuk menghentikan pelatihan model jika tidak terjadi peningkatan dalam metrik yang ditentukan (misalnya, kehilangan validasi) dalam jumlah epoch yang ditentukan. Ini membantu mencegah overfitting dan menghemat waktu pelatihan."
   ]
  },
  {
   "cell_type": "code",
   "execution_count": 5,
   "id": "c8b512dc-23ba-4589-acde-3ecef8913e44",
   "metadata": {},
   "outputs": [
    {
     "data": {
      "text/html": [
       "<div>\n",
       "<style scoped>\n",
       "    .dataframe tbody tr th:only-of-type {\n",
       "        vertical-align: middle;\n",
       "    }\n",
       "\n",
       "    .dataframe tbody tr th {\n",
       "        vertical-align: top;\n",
       "    }\n",
       "\n",
       "    .dataframe thead th {\n",
       "        text-align: right;\n",
       "    }\n",
       "</style>\n",
       "<table border=\"1\" class=\"dataframe\">\n",
       "  <thead>\n",
       "    <tr style=\"text-align: right;\">\n",
       "      <th></th>\n",
       "      <th>Date</th>\n",
       "      <th>Open</th>\n",
       "      <th>High</th>\n",
       "      <th>Low</th>\n",
       "      <th>Close</th>\n",
       "      <th>Adj Close</th>\n",
       "      <th>Volume</th>\n",
       "    </tr>\n",
       "  </thead>\n",
       "  <tbody>\n",
       "    <tr>\n",
       "      <th>0</th>\n",
       "      <td>2023-05-12</td>\n",
       "      <td>176.070007</td>\n",
       "      <td>177.380005</td>\n",
       "      <td>167.229996</td>\n",
       "      <td>167.979996</td>\n",
       "      <td>167.979996</td>\n",
       "      <td>157577100</td>\n",
       "    </tr>\n",
       "    <tr>\n",
       "      <th>1</th>\n",
       "      <td>2023-05-15</td>\n",
       "      <td>167.660004</td>\n",
       "      <td>169.759995</td>\n",
       "      <td>164.550003</td>\n",
       "      <td>166.350006</td>\n",
       "      <td>166.350006</td>\n",
       "      <td>105592500</td>\n",
       "    </tr>\n",
       "    <tr>\n",
       "      <th>2</th>\n",
       "      <td>2023-05-16</td>\n",
       "      <td>165.649994</td>\n",
       "      <td>169.520004</td>\n",
       "      <td>164.350006</td>\n",
       "      <td>166.520004</td>\n",
       "      <td>166.520004</td>\n",
       "      <td>98288800</td>\n",
       "    </tr>\n",
       "    <tr>\n",
       "      <th>3</th>\n",
       "      <td>2023-05-17</td>\n",
       "      <td>168.410004</td>\n",
       "      <td>174.500000</td>\n",
       "      <td>167.190002</td>\n",
       "      <td>173.860001</td>\n",
       "      <td>173.860001</td>\n",
       "      <td>125473600</td>\n",
       "    </tr>\n",
       "    <tr>\n",
       "      <th>4</th>\n",
       "      <td>2023-05-18</td>\n",
       "      <td>174.220001</td>\n",
       "      <td>177.059998</td>\n",
       "      <td>172.449997</td>\n",
       "      <td>176.889999</td>\n",
       "      <td>176.889999</td>\n",
       "      <td>109520300</td>\n",
       "    </tr>\n",
       "  </tbody>\n",
       "</table>\n",
       "</div>"
      ],
      "text/plain": [
       "         Date        Open        High         Low       Close   Adj Close  \\\n",
       "0  2023-05-12  176.070007  177.380005  167.229996  167.979996  167.979996   \n",
       "1  2023-05-15  167.660004  169.759995  164.550003  166.350006  166.350006   \n",
       "2  2023-05-16  165.649994  169.520004  164.350006  166.520004  166.520004   \n",
       "3  2023-05-17  168.410004  174.500000  167.190002  173.860001  173.860001   \n",
       "4  2023-05-18  174.220001  177.059998  172.449997  176.889999  176.889999   \n",
       "\n",
       "      Volume  \n",
       "0  157577100  \n",
       "1  105592500  \n",
       "2   98288800  \n",
       "3  125473600  \n",
       "4  109520300  "
      ]
     },
     "execution_count": 5,
     "metadata": {},
     "output_type": "execute_result"
    }
   ],
   "source": [
    "data = pd.read_csv('TSLA.csv')\n",
    "data.head()"
   ]
  },
  {
   "cell_type": "code",
   "execution_count": 6,
   "id": "17dfba74-1758-4259-a88a-5fe08fd43d28",
   "metadata": {},
   "outputs": [],
   "source": [
    "def check_df(dataframe,head=5):\n",
    "    print(\"#################### Shape #################### \")\n",
    "    print(dataframe.shape)\n",
    "    print(\"#################### Types #################### \")\n",
    "    print(dataframe.dtypes)\n",
    "    print(\"#################### Head #################### \")\n",
    "    print(dataframe.head(head))\n",
    "    print(\"#################### Tail #################### \")\n",
    "    print(dataframe.dtypes)\n",
    "    print(\"#################### NA #################### \")\n",
    "    print(dataframe.isnull().sum())\n",
    "    print(\"#################### Quantiles #################### \")\n",
    "    #hanya menghitung kuantil untuk kolom numerik\n",
    "    numeric_df = dataframe.select_dtypes(include='number')\n",
    "    print(numeric_df.quantile([0,0.5,0.50,0.95,0.99,1]).T)"
   ]
  },
  {
   "cell_type": "markdown",
   "id": "85b78d4f-d3b0-4df7-8c5f-1db34d90c3b0",
   "metadata": {},
   "source": []
  },
  {
   "cell_type": "markdown",
   "id": "30c36612-2d0d-4518-819b-8be037fe5df4",
   "metadata": {},
   "source": [
    "(numeric_df) dibuat untuk kolom dataframe yang tidak mendukung peritungan kuantil (misal kolom non numerik) maka dari itu perlu untuk membuat variabel tersebut jika langsung dioperasikan itu akan terjadi eror yang menyebakan tidak munculnya bilangan kauantil yang kita maksud.\n",
    "\n",
    "berikut contoh kode program yang langsung mengeksekusi yang menyebakan terjadinya eror\n",
    "{ print(dataframe.quantile([0,0.5,0.50,0.95,0.99,1]).T)}"
   ]
  },
  {
   "cell_type": "code",
   "execution_count": 7,
   "id": "73d8f37a-998e-4f66-b4ee-68f2c5332544",
   "metadata": {},
   "outputs": [
    {
     "name": "stdout",
     "output_type": "stream",
     "text": [
      "#################### Shape #################### \n",
      "(251, 7)\n",
      "#################### Types #################### \n",
      "Date          object\n",
      "Open         float64\n",
      "High         float64\n",
      "Low          float64\n",
      "Close        float64\n",
      "Adj Close    float64\n",
      "Volume         int64\n",
      "dtype: object\n",
      "#################### Head #################### \n",
      "         Date        Open        High         Low       Close   Adj Close  \\\n",
      "0  2023-05-12  176.070007  177.380005  167.229996  167.979996  167.979996   \n",
      "1  2023-05-15  167.660004  169.759995  164.550003  166.350006  166.350006   \n",
      "2  2023-05-16  165.649994  169.520004  164.350006  166.520004  166.520004   \n",
      "3  2023-05-17  168.410004  174.500000  167.190002  173.860001  173.860001   \n",
      "4  2023-05-18  174.220001  177.059998  172.449997  176.889999  176.889999   \n",
      "\n",
      "      Volume  \n",
      "0  157577100  \n",
      "1  105592500  \n",
      "2   98288800  \n",
      "3  125473600  \n",
      "4  109520300  \n",
      "#################### Tail #################### \n",
      "Date          object\n",
      "Open         float64\n",
      "High         float64\n",
      "Low          float64\n",
      "Close        float64\n",
      "Adj Close    float64\n",
      "Volume         int64\n",
      "dtype: object\n",
      "#################### NA #################### \n",
      "Date         0\n",
      "Open         0\n",
      "High         0\n",
      "Low          0\n",
      "Close        0\n",
      "Adj Close    0\n",
      "Volume       0\n",
      "dtype: int64\n",
      "#################### Quantiles #################### \n",
      "                   0.00          0.50          0.50          0.95  \\\n",
      "Open       1.405600e+02  2.305700e+02  2.305700e+02  2.748600e+02   \n",
      "High       1.444400e+02  2.355000e+02  2.355000e+02  2.772550e+02   \n",
      "Low        1.388000e+02  2.265400e+02  2.265400e+02  2.673500e+02   \n",
      "Close      1.420500e+02  2.329600e+02  2.329600e+02  2.727850e+02   \n",
      "Adj Close  1.420500e+02  2.329600e+02  2.329600e+02  2.727850e+02   \n",
      "Volume     6.450660e+07  1.124347e+08  1.124347e+08  1.672198e+08   \n",
      "\n",
      "                   0.99          1.00  \n",
      "Open       2.830950e+02  2.960400e+02  \n",
      "High       2.887650e+02  2.992900e+02  \n",
      "Low        2.805850e+02  2.895200e+02  \n",
      "Close      2.864300e+02  2.933400e+02  \n",
      "Adj Close  2.864300e+02  2.933400e+02  \n",
      "Volume     1.989796e+08  2.438697e+08  \n"
     ]
    }
   ],
   "source": [
    "check_df(data)"
   ]
  },
  {
   "cell_type": "code",
   "execution_count": 8,
   "id": "5c495038-c738-4f47-82c2-2f9d3a4a949f",
   "metadata": {},
   "outputs": [],
   "source": [
    "data[\"Date\"]=pd.to_datetime(data[\"Date\"])\n",
    "#df[\"Date\"] = pd.to_datetime(df[\"Date\"])"
   ]
  },
  {
   "cell_type": "markdown",
   "id": "797ddb37-c970-4076-84cf-4c2075c6b3e1",
   "metadata": {},
   "source": [
    "perintah diatas digunakan untuk mengkonversi \"Date\" ke dalam DataFrame menjadi tipe data datetime. \n"
   ]
  },
  {
   "cell_type": "code",
   "execution_count": 9,
   "id": "2e79c296-e5d4-46fe-8303-cc42e9fb848b",
   "metadata": {},
   "outputs": [
    {
     "name": "stdout",
     "output_type": "stream",
     "text": [
      "#################### Shape #################### \n",
      "(251, 7)\n",
      "#################### Types #################### \n",
      "Date         datetime64[ns]\n",
      "Open                float64\n",
      "High                float64\n",
      "Low                 float64\n",
      "Close               float64\n",
      "Adj Close           float64\n",
      "Volume                int64\n",
      "dtype: object\n",
      "#################### Head #################### \n",
      "        Date        Open        High         Low       Close   Adj Close  \\\n",
      "0 2023-05-12  176.070007  177.380005  167.229996  167.979996  167.979996   \n",
      "1 2023-05-15  167.660004  169.759995  164.550003  166.350006  166.350006   \n",
      "2 2023-05-16  165.649994  169.520004  164.350006  166.520004  166.520004   \n",
      "3 2023-05-17  168.410004  174.500000  167.190002  173.860001  173.860001   \n",
      "4 2023-05-18  174.220001  177.059998  172.449997  176.889999  176.889999   \n",
      "\n",
      "      Volume  \n",
      "0  157577100  \n",
      "1  105592500  \n",
      "2   98288800  \n",
      "3  125473600  \n",
      "4  109520300  \n",
      "#################### Tail #################### \n",
      "Date         datetime64[ns]\n",
      "Open                float64\n",
      "High                float64\n",
      "Low                 float64\n",
      "Close               float64\n",
      "Adj Close           float64\n",
      "Volume                int64\n",
      "dtype: object\n",
      "#################### NA #################### \n",
      "Date         0\n",
      "Open         0\n",
      "High         0\n",
      "Low          0\n",
      "Close        0\n",
      "Adj Close    0\n",
      "Volume       0\n",
      "dtype: int64\n",
      "#################### Quantiles #################### \n",
      "                   0.00          0.50          0.50          0.95  \\\n",
      "Open       1.405600e+02  2.305700e+02  2.305700e+02  2.748600e+02   \n",
      "High       1.444400e+02  2.355000e+02  2.355000e+02  2.772550e+02   \n",
      "Low        1.388000e+02  2.265400e+02  2.265400e+02  2.673500e+02   \n",
      "Close      1.420500e+02  2.329600e+02  2.329600e+02  2.727850e+02   \n",
      "Adj Close  1.420500e+02  2.329600e+02  2.329600e+02  2.727850e+02   \n",
      "Volume     6.450660e+07  1.124347e+08  1.124347e+08  1.672198e+08   \n",
      "\n",
      "                   0.99          1.00  \n",
      "Open       2.830950e+02  2.960400e+02  \n",
      "High       2.887650e+02  2.992900e+02  \n",
      "Low        2.805850e+02  2.895200e+02  \n",
      "Close      2.864300e+02  2.933400e+02  \n",
      "Adj Close  2.864300e+02  2.933400e+02  \n",
      "Volume     1.989796e+08  2.438697e+08  \n"
     ]
    }
   ],
   "source": [
    "check_df(data)"
   ]
  },
  {
   "cell_type": "code",
   "execution_count": 10,
   "id": "85da9cf7-4ea9-445d-be51-3a6bc74df5db",
   "metadata": {},
   "outputs": [
    {
     "data": {
      "text/html": [
       "<div>\n",
       "<style scoped>\n",
       "    .dataframe tbody tr th:only-of-type {\n",
       "        vertical-align: middle;\n",
       "    }\n",
       "\n",
       "    .dataframe tbody tr th {\n",
       "        vertical-align: top;\n",
       "    }\n",
       "\n",
       "    .dataframe thead th {\n",
       "        text-align: right;\n",
       "    }\n",
       "</style>\n",
       "<table border=\"1\" class=\"dataframe\">\n",
       "  <thead>\n",
       "    <tr style=\"text-align: right;\">\n",
       "      <th></th>\n",
       "      <th>Date</th>\n",
       "      <th>Open</th>\n",
       "      <th>High</th>\n",
       "      <th>Low</th>\n",
       "      <th>Close</th>\n",
       "      <th>Adj Close</th>\n",
       "      <th>Volume</th>\n",
       "    </tr>\n",
       "  </thead>\n",
       "  <tbody>\n",
       "    <tr>\n",
       "      <th>0</th>\n",
       "      <td>2023-05-12</td>\n",
       "      <td>176.070007</td>\n",
       "      <td>177.380005</td>\n",
       "      <td>167.229996</td>\n",
       "      <td>167.979996</td>\n",
       "      <td>167.979996</td>\n",
       "      <td>157577100</td>\n",
       "    </tr>\n",
       "    <tr>\n",
       "      <th>1</th>\n",
       "      <td>2023-05-15</td>\n",
       "      <td>167.660004</td>\n",
       "      <td>169.759995</td>\n",
       "      <td>164.550003</td>\n",
       "      <td>166.350006</td>\n",
       "      <td>166.350006</td>\n",
       "      <td>105592500</td>\n",
       "    </tr>\n",
       "    <tr>\n",
       "      <th>2</th>\n",
       "      <td>2023-05-16</td>\n",
       "      <td>165.649994</td>\n",
       "      <td>169.520004</td>\n",
       "      <td>164.350006</td>\n",
       "      <td>166.520004</td>\n",
       "      <td>166.520004</td>\n",
       "      <td>98288800</td>\n",
       "    </tr>\n",
       "    <tr>\n",
       "      <th>3</th>\n",
       "      <td>2023-05-17</td>\n",
       "      <td>168.410004</td>\n",
       "      <td>174.500000</td>\n",
       "      <td>167.190002</td>\n",
       "      <td>173.860001</td>\n",
       "      <td>173.860001</td>\n",
       "      <td>125473600</td>\n",
       "    </tr>\n",
       "    <tr>\n",
       "      <th>4</th>\n",
       "      <td>2023-05-18</td>\n",
       "      <td>174.220001</td>\n",
       "      <td>177.059998</td>\n",
       "      <td>172.449997</td>\n",
       "      <td>176.889999</td>\n",
       "      <td>176.889999</td>\n",
       "      <td>109520300</td>\n",
       "    </tr>\n",
       "  </tbody>\n",
       "</table>\n",
       "</div>"
      ],
      "text/plain": [
       "        Date        Open        High         Low       Close   Adj Close  \\\n",
       "0 2023-05-12  176.070007  177.380005  167.229996  167.979996  167.979996   \n",
       "1 2023-05-15  167.660004  169.759995  164.550003  166.350006  166.350006   \n",
       "2 2023-05-16  165.649994  169.520004  164.350006  166.520004  166.520004   \n",
       "3 2023-05-17  168.410004  174.500000  167.190002  173.860001  173.860001   \n",
       "4 2023-05-18  174.220001  177.059998  172.449997  176.889999  176.889999   \n",
       "\n",
       "      Volume  \n",
       "0  157577100  \n",
       "1  105592500  \n",
       "2   98288800  \n",
       "3  125473600  \n",
       "4  109520300  "
      ]
     },
     "execution_count": 10,
     "metadata": {},
     "output_type": "execute_result"
    }
   ],
   "source": [
    "data.head()"
   ]
  },
  {
   "cell_type": "markdown",
   "id": "af921d60-a0cc-4212-8eb0-772bf114bc31",
   "metadata": {},
   "source": [
    "3. PREPARING THE DATA"
   ]
  },
  {
   "cell_type": "code",
   "execution_count": 11,
   "id": "a1589cd2-3b1c-4fe2-af25-3d9d8671a147",
   "metadata": {},
   "outputs": [],
   "source": [
    "tesla_data=data[[\"Date\",\"Close\"]]"
   ]
  },
  {
   "cell_type": "markdown",
   "id": "5ebd7bb2-7ed5-4e14-9b15-f7727ceb0a39",
   "metadata": {},
   "source": [
    "variabel tesla_data digunakan untuk DataFrame baru yang hanya berisi informasi tanggal dan harga penutupan saja."
   ]
  },
  {
   "cell_type": "code",
   "execution_count": 12,
   "id": "2a5006b9-c46c-4b6f-9dcc-47d0ada46ec4",
   "metadata": {},
   "outputs": [
    {
     "data": {
      "text/html": [
       "<div>\n",
       "<style scoped>\n",
       "    .dataframe tbody tr th:only-of-type {\n",
       "        vertical-align: middle;\n",
       "    }\n",
       "\n",
       "    .dataframe tbody tr th {\n",
       "        vertical-align: top;\n",
       "    }\n",
       "\n",
       "    .dataframe thead th {\n",
       "        text-align: right;\n",
       "    }\n",
       "</style>\n",
       "<table border=\"1\" class=\"dataframe\">\n",
       "  <thead>\n",
       "    <tr style=\"text-align: right;\">\n",
       "      <th></th>\n",
       "      <th>Date</th>\n",
       "      <th>Close</th>\n",
       "    </tr>\n",
       "  </thead>\n",
       "  <tbody>\n",
       "    <tr>\n",
       "      <th>0</th>\n",
       "      <td>2023-05-12</td>\n",
       "      <td>167.979996</td>\n",
       "    </tr>\n",
       "    <tr>\n",
       "      <th>1</th>\n",
       "      <td>2023-05-15</td>\n",
       "      <td>166.350006</td>\n",
       "    </tr>\n",
       "    <tr>\n",
       "      <th>2</th>\n",
       "      <td>2023-05-16</td>\n",
       "      <td>166.520004</td>\n",
       "    </tr>\n",
       "    <tr>\n",
       "      <th>3</th>\n",
       "      <td>2023-05-17</td>\n",
       "      <td>173.860001</td>\n",
       "    </tr>\n",
       "    <tr>\n",
       "      <th>4</th>\n",
       "      <td>2023-05-18</td>\n",
       "      <td>176.889999</td>\n",
       "    </tr>\n",
       "  </tbody>\n",
       "</table>\n",
       "</div>"
      ],
      "text/plain": [
       "        Date       Close\n",
       "0 2023-05-12  167.979996\n",
       "1 2023-05-15  166.350006\n",
       "2 2023-05-16  166.520004\n",
       "3 2023-05-17  173.860001\n",
       "4 2023-05-18  176.889999"
      ]
     },
     "execution_count": 12,
     "metadata": {},
     "output_type": "execute_result"
    }
   ],
   "source": [
    "tesla_data.head()"
   ]
  },
  {
   "cell_type": "code",
   "execution_count": 13,
   "id": "b1bd8045-1a6a-4eb2-98f3-86929531784d",
   "metadata": {},
   "outputs": [
    {
     "name": "stdout",
     "output_type": "stream",
     "text": [
      "Min. Tarih: 2023-05-12 00:00:00\n",
      "Max. Tarih: 2024-05-10 00:00:00\n"
     ]
    }
   ],
   "source": [
    "print(\"Min. Tarih:\",tesla_data[\"Date\"].min())\n",
    "print(\"Max. Tarih:\",tesla_data[\"Date\"].max())"
   ]
  },
  {
   "cell_type": "markdown",
   "id": "f5eaa7ed-ac7f-4c35-9358-a910c1cd39ae",
   "metadata": {},
   "source": [
    "digunakan untuk menampilkan atau mencetak tanggal minimum dan maksimum menggunakan metode Min () dan Max () . dengan kode ditas kita dengan mudah mengetahui rentan waktu dari data harga penutupan data saham Tesla dalam DataFrame."
   ]
  },
  {
   "cell_type": "code",
   "execution_count": 14,
   "id": "f79e5656-9df1-4602-979d-5ef305b26142",
   "metadata": {},
   "outputs": [],
   "source": [
    "tesla_data.index=tesla_data[\"Date\"]"
   ]
  },
  {
   "cell_type": "code",
   "execution_count": 15,
   "id": "46429019-2d9d-432a-aca3-382061187717",
   "metadata": {},
   "outputs": [
    {
     "data": {
      "text/html": [
       "<div>\n",
       "<style scoped>\n",
       "    .dataframe tbody tr th:only-of-type {\n",
       "        vertical-align: middle;\n",
       "    }\n",
       "\n",
       "    .dataframe tbody tr th {\n",
       "        vertical-align: top;\n",
       "    }\n",
       "\n",
       "    .dataframe thead th {\n",
       "        text-align: right;\n",
       "    }\n",
       "</style>\n",
       "<table border=\"1\" class=\"dataframe\">\n",
       "  <thead>\n",
       "    <tr style=\"text-align: right;\">\n",
       "      <th></th>\n",
       "      <th>Date</th>\n",
       "      <th>Close</th>\n",
       "    </tr>\n",
       "    <tr>\n",
       "      <th>Date</th>\n",
       "      <th></th>\n",
       "      <th></th>\n",
       "    </tr>\n",
       "  </thead>\n",
       "  <tbody>\n",
       "    <tr>\n",
       "      <th>2023-05-12</th>\n",
       "      <td>2023-05-12</td>\n",
       "      <td>167.979996</td>\n",
       "    </tr>\n",
       "    <tr>\n",
       "      <th>2023-05-15</th>\n",
       "      <td>2023-05-15</td>\n",
       "      <td>166.350006</td>\n",
       "    </tr>\n",
       "    <tr>\n",
       "      <th>2023-05-16</th>\n",
       "      <td>2023-05-16</td>\n",
       "      <td>166.520004</td>\n",
       "    </tr>\n",
       "    <tr>\n",
       "      <th>2023-05-17</th>\n",
       "      <td>2023-05-17</td>\n",
       "      <td>173.860001</td>\n",
       "    </tr>\n",
       "    <tr>\n",
       "      <th>2023-05-18</th>\n",
       "      <td>2023-05-18</td>\n",
       "      <td>176.889999</td>\n",
       "    </tr>\n",
       "    <tr>\n",
       "      <th>...</th>\n",
       "      <td>...</td>\n",
       "      <td>...</td>\n",
       "    </tr>\n",
       "    <tr>\n",
       "      <th>2024-05-06</th>\n",
       "      <td>2024-05-06</td>\n",
       "      <td>184.759995</td>\n",
       "    </tr>\n",
       "    <tr>\n",
       "      <th>2024-05-07</th>\n",
       "      <td>2024-05-07</td>\n",
       "      <td>177.809998</td>\n",
       "    </tr>\n",
       "    <tr>\n",
       "      <th>2024-05-08</th>\n",
       "      <td>2024-05-08</td>\n",
       "      <td>174.720001</td>\n",
       "    </tr>\n",
       "    <tr>\n",
       "      <th>2024-05-09</th>\n",
       "      <td>2024-05-09</td>\n",
       "      <td>171.970001</td>\n",
       "    </tr>\n",
       "    <tr>\n",
       "      <th>2024-05-10</th>\n",
       "      <td>2024-05-10</td>\n",
       "      <td>168.470001</td>\n",
       "    </tr>\n",
       "  </tbody>\n",
       "</table>\n",
       "<p>251 rows × 2 columns</p>\n",
       "</div>"
      ],
      "text/plain": [
       "                 Date       Close\n",
       "Date                             \n",
       "2023-05-12 2023-05-12  167.979996\n",
       "2023-05-15 2023-05-15  166.350006\n",
       "2023-05-16 2023-05-16  166.520004\n",
       "2023-05-17 2023-05-17  173.860001\n",
       "2023-05-18 2023-05-18  176.889999\n",
       "...               ...         ...\n",
       "2024-05-06 2024-05-06  184.759995\n",
       "2024-05-07 2024-05-07  177.809998\n",
       "2024-05-08 2024-05-08  174.720001\n",
       "2024-05-09 2024-05-09  171.970001\n",
       "2024-05-10 2024-05-10  168.470001\n",
       "\n",
       "[251 rows x 2 columns]"
      ]
     },
     "execution_count": 15,
     "metadata": {},
     "output_type": "execute_result"
    }
   ],
   "source": [
    "tesla_data"
   ]
  },
  {
   "cell_type": "code",
   "execution_count": 16,
   "id": "eae00254-f9f5-4682-810a-3ab6230b2d8f",
   "metadata": {},
   "outputs": [],
   "source": [
    "result_data=tesla_data.copy()"
   ]
  },
  {
   "cell_type": "code",
   "execution_count": 17,
   "id": "de5a5c2e-e161-4f3e-bb20-6fb4d504f0dc",
   "metadata": {},
   "outputs": [
    {
     "data": {
      "image/png": "[encoded data removed]",
      "text/plain": [
       "<Figure size 1200x600 with 1 Axes>"
      ]
     },
     "metadata": {},
     "output_type": "display_data"
    }
   ],
   "source": [
    "plt.figure(figsize=(12,6))\n",
    "plt.plot(tesla_data[\"Close\"],color=\"blue\");\n",
    "plt.ylabel(\"Stock Price\")\n",
    "plt.title(\"Tesla Stock Price\")\n",
    "plt.xlabel(\"Time\")\n",
    "plt.show()"
   ]
  },
  {
   "cell_type": "code",
   "execution_count": 18,
   "id": "5efd5acb-010d-4347-b3e7-1dcbafb2ec65",
   "metadata": {},
   "outputs": [],
   "source": [
    "tesla_data = tesla_data.values"
   ]
  },
  {
   "cell_type": "code",
   "execution_count": 19,
   "id": "c10337d2-3987-4e6d-807a-11e167a130c7",
   "metadata": {},
   "outputs": [
    {
     "data": {
      "text/plain": [
       "array([[Timestamp('2023-05-12 00:00:00'), 167.979996],\n",
       "       [Timestamp('2023-05-15 00:00:00'), 166.350006],\n",
       "       [Timestamp('2023-05-16 00:00:00'), 166.520004],\n",
       "       [Timestamp('2023-05-17 00:00:00'), 173.860001],\n",
       "       [Timestamp('2023-05-18 00:00:00'), 176.889999]], dtype=object)"
      ]
     },
     "execution_count": 19,
     "metadata": {},
     "output_type": "execute_result"
    }
   ],
   "source": [
    "tesla_data[0:5]"
   ]
  },
  {
   "cell_type": "code",
   "execution_count": 20,
   "id": "91540d10-c8ed-47e1-a616-a124c2496f03",
   "metadata": {},
   "outputs": [],
   "source": [
    "def split_data(dataframe,test_size):\n",
    "    pos=int(round(len(dataframe)*(1-test_size)))\n",
    "    train=dataframe[:pos]\n",
    "    test=dataframe[pos:]\n",
    "    return train,test,pos"
   ]
  },
  {
   "cell_type": "code",
   "execution_count": 21,
   "id": "e0e9938a-be46-4db2-be1e-183172578f7a",
   "metadata": {},
   "outputs": [],
   "source": [
    "def split_data(dataframe,test_size):\n",
    "    pos=int(round(len(dataframe)*(1-test_size)))\n",
    "    train=dataframe[:pos]\n",
    "    test=dataframe[pos:]\n",
    "    return train,test,pos"
   ]
  },
  {
   "cell_type": "code",
   "execution_count": 22,
   "id": "ddb2b250-276c-4379-8bed-be1098a72a1a",
   "metadata": {},
   "outputs": [],
   "source": [
    "train,test,pos=split_data(tesla_data,0.20)"
   ]
  },
  {
   "cell_type": "code",
   "execution_count": 23,
   "id": "59833fdc-63c7-477b-849d-fb3c6511cfae",
   "metadata": {},
   "outputs": [
    {
     "name": "stdout",
     "output_type": "stream",
     "text": [
      "(201, 2) (50, 2)\n"
     ]
    }
   ],
   "source": [
    "print(train.shape, test.shape)"
   ]
  },
  {
   "cell_type": "code",
   "execution_count": 24,
   "id": "be1bebf3-7e79-420e-be13-b5a135560d70",
   "metadata": {},
   "outputs": [],
   "source": [
    "scaler_train=MinMaxScaler(feature_range=(0,1))"
   ]
  },
  {
   "cell_type": "code",
   "execution_count": 28,
   "id": "0cafb400-ef4d-45bf-9e2b-6d4a76e2fabc",
   "metadata": {},
   "outputs": [],
   "source": [
    "columns_to_scale = [\"Open\",\"High\",\"Low\",\"Close\",\"Volume\"]\n",
    "train = data[columns_to_scale]"
   ]
  },
  {
   "cell_type": "code",
   "execution_count": 42,
   "id": "33d9f024-725e-4eae-ae51-6e3eeae01c9d",
   "metadata": {},
   "outputs": [
    {
     "name": "stdout",
     "output_type": "stream",
     "text": [
      "<class 'pandas.core.frame.DataFrame'>\n",
      "Open      float64\n",
      "High      float64\n",
      "Low       float64\n",
      "Close     float64\n",
      "Volume      int64\n",
      "dtype: object\n"
     ]
    }
   ],
   "source": [
    "print(type(train))\n",
    "print(train.dtypes)"
   ]
  },
  {
   "cell_type": "markdown",
   "id": "4822dd91-4321-493e-99c4-97b9e58864b9",
   "metadata": {},
   "source": []
  },
  {
   "cell_type": "code",
   "execution_count": 46,
   "id": "7e251d55-438e-4c72-888c-8e93db1974d7",
   "metadata": {},
   "outputs": [],
   "source": [
    "# Menggunakan StandardScaler untuk normalisasi\n",
    "scaler_train = StandardScaler()\n",
    "train_scaled = scaler_train.fit_transform(train)\n"
   ]
  },
  {
   "cell_type": "code",
   "execution_count": 47,
   "id": "894ed4f3-5c6b-426c-8be5-8bfb429d6ebd",
   "metadata": {},
   "outputs": [
    {
     "name": "stdout",
     "output_type": "stream",
     "text": [
      "       Open      High       Low     Close    Volume\n",
      "0 -1.256870 -1.321793 -1.405831 -1.482721  1.471501\n",
      "1 -1.488176 -1.528976 -1.480745 -1.527595 -0.416694\n",
      "2 -1.543459 -1.535501 -1.486335 -1.522915 -0.681981\n",
      "3 -1.467549 -1.400098 -1.406949 -1.320844  0.305431\n",
      "4 -1.307752 -1.330493 -1.259916 -1.237428 -0.274028\n"
     ]
    }
   ],
   "source": [
    "# Mengonversi kembali array yang sudah dinormalisasi ke DataFrame\n",
    "train_scaled_df = pd.DataFrame(train_scaled, columns=columns_to_scale)\n",
    "\n",
    "# Mencetak hasil normalisasi\n",
    "print(train_scaled_df.head())"
   ]
  },
  {
   "cell_type": "code",
   "execution_count": 57,
   "id": "0296899b-f4f8-4e90-8fb1-37e64f1b3e50",
   "metadata": {},
   "outputs": [],
   "source": [
    "scaler_test=MinMaxScaler(feature_range=(0,1))"
   ]
  },
  {
   "cell_type": "code",
   "execution_count": 62,
   "id": "50917c3a-9f26-4211-9c32-55e478e1d3a1",
   "metadata": {},
   "outputs": [],
   "source": [
    "train=scaler_train.fit_transform(train)"
   ]
  },
  {
   "cell_type": "code",
   "execution_count": 63,
   "id": "062e44fa-68c8-46be-b353-67f8aa108827",
   "metadata": {},
   "outputs": [
    {
     "data": {
      "text/plain": [
       "array([[-1.25687046, -1.32179252, -1.40583082, -1.48272124,  1.47150118],\n",
       "       [-1.48817641, -1.52897602, -1.48074465, -1.52759501, -0.41669444],\n",
       "       [-1.54345906, -1.53550123, -1.48633516, -1.52291495, -0.68198098],\n",
       "       [-1.46754866, -1.40009813, -1.40694877, -1.32084419,  0.30543107],\n",
       "       [-1.30775241, -1.33049332, -1.25991616, -1.23742808, -0.27402806]])"
      ]
     },
     "execution_count": 63,
     "metadata": {},
     "output_type": "execute_result"
    }
   ],
   "source": [
    "train[0:5]"
   ]
  },
  {
   "cell_type": "code",
   "execution_count": 64,
   "id": "e71b4328-7d75-43b9-a2b6-35d09f37b517",
   "metadata": {},
   "outputs": [
    {
     "data": {
      "text/plain": [
       "array([[Timestamp('2024-03-01 00:00:00'), 202.639999],\n",
       "       [Timestamp('2024-03-04 00:00:00'), 188.139999],\n",
       "       [Timestamp('2024-03-05 00:00:00'), 180.740005],\n",
       "       [Timestamp('2024-03-06 00:00:00'), 176.539993],\n",
       "       [Timestamp('2024-03-07 00:00:00'), 178.649994]], dtype=object)"
      ]
     },
     "execution_count": 64,
     "metadata": {},
     "output_type": "execute_result"
    }
   ],
   "source": [
    "test[0:5]"
   ]
  },
  {
   "cell_type": "raw",
   "id": "9c71119a-6bb3-4d6f-b898-5c4ae036f381",
   "metadata": {},
   "source": [
    "# Memilih kolom yang akan dinormalisasi\n",
    "columns_to_scale = [\"Open\", \"High\", \"Low\", \"Close\", \"Volume\"]\n",
    "train = data[columns_to_scale]\n",
    "\n",
    "# Menggunakan StandardScaler untuk normalisasi\n",
    "scaler_train = StandardScaler()\n",
    "train_scaled = scaler_train.fit_transform(train)\n",
    "\n",
    "# Mengonversi kembali array yang sudah dinormalisasi ke DataFrame\n",
    "train_scaled_df = pd.DataFrame(train_scaled, columns=columns_to_scale)\n",
    "\n",
    "# Mengubah DataFrame yang sudah dinormalisasi menjadi numpy array\n",
    "train_array = train_scaled_df.values\n",
    "\n",
    "# Menentukan lookback period\n",
    "lookback = 20\n",
    "\n",
    "# Membuat fitur dan target menggunakan fungsi create_features\n",
    "X_train, y_train = create_features(train_array, lookback)\n",
    "\n",
    "print(\"X_train shape:\", X_train.shape)\n",
    "print(\"y_train shape:\", y_train.shape)\n",
    "print(\"X_train sample:\", X_train[0])\n",
    "print(\"y_train sample:\", y_train[0])"
   ]
  },
  {
   "cell_type": "code",
   "execution_count": 69,
   "id": "75b05c45-85fb-4f88-bb72-736454aa5b57",
   "metadata": {},
   "outputs": [
    {
     "ename": "NameError",
     "evalue": "name 'create_features' is not defined",
     "output_type": "error",
     "traceback": [
      "\u001b[1;31m---------------------------------------------------------------------------\u001b[0m",
      "\u001b[1;31mNameError\u001b[0m                                 Traceback (most recent call last)",
      "Cell \u001b[1;32mIn[69], line 1\u001b[0m\n\u001b[1;32m----> 1\u001b[0m X_train \u001b[38;5;241m=\u001b[39m create_features(train,lookback)\n",
      "\u001b[1;31mNameError\u001b[0m: name 'create_features' is not defined"
     ]
    }
   ],
   "source": []
  },
  {
   "cell_type": "code",
   "execution_count": 70,
   "id": "d2d4c89e-5467-4d5e-be55-8b506aa7b8d3",
   "metadata": {},
   "outputs": [
    {
     "ename": "NameError",
     "evalue": "name 'create_features' is not defined",
     "output_type": "error",
     "traceback": [
      "\u001b[1;31m---------------------------------------------------------------------------\u001b[0m",
      "\u001b[1;31mNameError\u001b[0m                                 Traceback (most recent call last)",
      "Cell \u001b[1;32mIn[70], line 1\u001b[0m\n\u001b[1;32m----> 1\u001b[0m X_train,y_train\u001b[38;5;241m=\u001b[39mcreate_features(train,lookback)\n",
      "\u001b[1;31mNameError\u001b[0m: name 'create_features' is not defined"
     ]
    }
   ],
   "source": [
    "X_train,y_train=create_features(train,lookback)\n"
   ]
  },
  {
   "cell_type": "code",
   "execution_count": null,
   "id": "575c6316-1361-4ab9-a463-5cbde04c75ad",
   "metadata": {},
   "outputs": [],
   "source": []
  }
 ],
 "metadata": {
  "kernelspec": {
   "display_name": "Python 3 (ipykernel)",
   "language": "python",
   "name": "python3"
  },
  "language_info": {
   "codemirror_mode": {
    "name": "ipython",
    "version": 3
   },
   "file_extension": ".py",
   "mimetype": "text/x-python",
   "name": "python",
   "nbconvert_exporter": "python",
   "pygments_lexer": "ipython3",
   "version": "3.11.7"
  }
 },
 "nbformat": 4,
 "nbformat_minor": 5
}
